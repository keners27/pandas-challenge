{
 "cells": [
  {
   "cell_type": "code",
   "execution_count": null,
   "id": "6fb30e47",
   "metadata": {},
   "outputs": [],
   "source": [
    "nineth_graders = school_data_complete[(school_data_complete[\"year\"] == \"9\")]\n",
    "tenth_graders = school_data_complete[(school_data_complete[\"year\"] == \"10\")]\n",
    "eleventh_graders = school_data_complete[(school_data_complete[\"year\"] == \"11\")]\n",
    "twelfth_graders = school_data_complete[(school_data_complete[\"year\"] == \"12\")]\n",
    "\n",
    "nineth_graders_scores = nineth_graders.groupby([\"school_name\"]).mean()[\"maths_score\"]\n",
    "tenth_graders_scores = tenth_graders.groupby([\"school_name\"]).mean()[\"maths_score\"]\n",
    "eleventh_graders_scores = eleventh_graders.groupby([\"school_name\"]).mean()[\"maths_score\"]\n",
    "twelfth_graders_scores = twelfth_graders.groupby([\"school_name\"]).mean()[\"maths_score\"]\n",
    "\n",
    "\n",
    "scores_by_grade_df = pd.DataFrame({\"9\": nineth_graders_scores,\n",
    "                                \"10\":tenth_graders_scores,\n",
    "                                \"11\":eleventh_graders_scores,\n",
    "                                \"12\":twelfth_graders_scores    \n",
    "})\n",
    "\n",
    "\n",
    "scores_by_grade_df = scores_by_grade_df [[\"9\", \"10\", \"11\", \"12\"]]\n",
    "\n",
    "scores_by_grade_df"
   ]
  }
 ],
 "metadata": {
  "kernelspec": {
   "display_name": "Python 3 (ipykernel)",
   "language": "python",
   "name": "python3"
  },
  "language_info": {
   "codemirror_mode": {
    "name": "ipython",
    "version": 3
   },
   "file_extension": ".py",
   "mimetype": "text/x-python",
   "name": "python",
   "nbconvert_exporter": "python",
   "pygments_lexer": "ipython3",
   "version": "3.7.7"
  }
 },
 "nbformat": 4,
 "nbformat_minor": 5
}
